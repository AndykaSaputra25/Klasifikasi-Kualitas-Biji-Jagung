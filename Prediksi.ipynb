{
  "nbformat": 4,
  "nbformat_minor": 0,
  "metadata": {
    "colab": {
      "provenance": []
    },
    "kernelspec": {
      "name": "python3",
      "display_name": "Python 3"
    },
    "language_info": {
      "name": "python"
    }
  },
  "cells": [
    {
      "cell_type": "code",
      "execution_count": null,
      "metadata": {
        "id": "lJ0FHLxX1XqA"
      },
      "outputs": [],
      "source": [
        "import os\n",
        "import cv2\n",
        "import glob\n",
        "import numpy as np\n",
        "import pandas as pd\n",
        "import seaborn as sns\n",
        "import matplotlib.pyplot as plt\n",
        "from tqdm import tqdm\n",
        "import datetime\n",
        "\n",
        "import tensorflow\n",
        "from tensorflow import keras\n",
        "from keras.models import load_model\n",
        "from tensorflow.keras.applications.vgg19 import VGG19\n",
        "# from tensorflow.keras.preprocessing.image import ImageDataGenerator\n",
        "from tensorflow.keras.preprocessing import image\n",
        "from tensorflow.keras.applications.vgg19 import preprocess_input\n",
        "from tensorflow.keras.models import Model\n",
        "from tensorflow.keras.callbacks import ModelCheckpoint, EarlyStopping\n",
        "from tensorflow.keras.backend import clear_session\n",
        "from tensorflow.keras.layers import Input, Dense, Flatten, Dropout, Activation\n",
        "from tensorflow.keras.optimizers import Adam\n",
        "from tensorflow.keras.utils import to_categorical\n",
        "\n",
        "from sklearn.utils import shuffle\n",
        "from sklearn.model_selection import StratifiedKFold\n",
        "from sklearn.metrics import accuracy_score, f1_score, precision_score, recall_score, classification_report, confusion_matrix, roc_auc_score, roc_curve\n",
        "\n",
        "from imblearn.under_sampling import RandomUnderSampler"
      ]
    },
    {
      "cell_type": "code",
      "source": [
        "from google.colab import drive\n",
        "drive.mount(\"/content/drive\")"
      ],
      "metadata": {
        "colab": {
          "base_uri": "https://localhost:8080/"
        },
        "id": "uU4QTygt1gWQ",
        "outputId": "8fe94bbf-3358-4875-8f03-1e96c8955cf1"
      },
      "execution_count": null,
      "outputs": [
        {
          "output_type": "stream",
          "name": "stdout",
          "text": [
            "Mounted at /content/drive\n"
          ]
        }
      ]
    },
    {
      "cell_type": "code",
      "source": [
        "path_benih = '/content/drive/My Drive/Penelitian Andyka/Kualitass/dataset/'"
      ],
      "metadata": {
        "id": "AnzBVmkK1nVX"
      },
      "execution_count": null,
      "outputs": []
    },
    {
      "cell_type": "code",
      "source": [
        "kelas = ['broken', 'discolored', 'pure', 'silkcut']\n",
        "kelas"
      ],
      "metadata": {
        "colab": {
          "base_uri": "https://localhost:8080/"
        },
        "id": "0DuqBUHY1wjd",
        "outputId": "9295d245-02ef-4af7-b5d1-9f9e16b47b7b"
      },
      "execution_count": null,
      "outputs": [
        {
          "output_type": "execute_result",
          "data": {
            "text/plain": [
              "['broken', 'discolored', 'pure', 'silkcut']"
            ]
          },
          "metadata": {},
          "execution_count": 4
        }
      ]
    },
    {
      "cell_type": "code",
      "source": [
        "def get_data(data_dir):\n",
        "    size = (224,224)\n",
        "    label = 0\n",
        "    x = []\n",
        "    y = []\n",
        "    for folder in kelas:\n",
        "        print(\"Loading {}\".format(data_dir+folder))\n",
        "        for pic in tqdm(glob.glob(data_dir + folder + '/*')):\n",
        "            im = cv2.imread(pic)\n",
        "            im = cv2.cvtColor(im, cv2.COLOR_BGR2RGB)\n",
        "            im = cv2.resize(im, (size))\n",
        "            im = np.array(im)\n",
        "            x.append(im)\n",
        "            y.append(label)\n",
        "        label+=1\n",
        "    x = np.array(x, dtype = 'float32')\n",
        "    y = np.array(y, dtype = 'int32')\n",
        "    return x,y"
      ],
      "metadata": {
        "id": "pToH-pqj1yIK"
      },
      "execution_count": null,
      "outputs": []
    },
    {
      "cell_type": "code",
      "source": [
        "x_test, y_test = get_data(path_benih + 'test/')"
      ],
      "metadata": {
        "colab": {
          "base_uri": "https://localhost:8080/"
        },
        "id": "Qre8xLFJ1zq7",
        "outputId": "5d353411-d6f7-480c-a70b-9feafce1c142"
      },
      "execution_count": null,
      "outputs": [
        {
          "output_type": "stream",
          "name": "stdout",
          "text": [
            "Loading /content/drive/My Drive/Penelitian Andyka/Kualitass/dataset/test/broken\n"
          ]
        },
        {
          "output_type": "stream",
          "name": "stderr",
          "text": [
            "100%|██████████| 250/250 [00:03<00:00, 79.39it/s] \n"
          ]
        },
        {
          "output_type": "stream",
          "name": "stdout",
          "text": [
            "Loading /content/drive/My Drive/Penelitian Andyka/Kualitass/dataset/test/discolored\n"
          ]
        },
        {
          "output_type": "stream",
          "name": "stderr",
          "text": [
            "100%|██████████| 250/250 [00:02<00:00, 88.47it/s] \n"
          ]
        },
        {
          "output_type": "stream",
          "name": "stdout",
          "text": [
            "Loading /content/drive/My Drive/Penelitian Andyka/Kualitass/dataset/test/pure\n"
          ]
        },
        {
          "output_type": "stream",
          "name": "stderr",
          "text": [
            "100%|██████████| 250/250 [00:02<00:00, 83.68it/s] \n"
          ]
        },
        {
          "output_type": "stream",
          "name": "stdout",
          "text": [
            "Loading /content/drive/My Drive/Penelitian Andyka/Kualitass/dataset/test/silkcut\n"
          ]
        },
        {
          "output_type": "stream",
          "name": "stderr",
          "text": [
            "100%|██████████| 250/250 [00:03<00:00, 83.22it/s] \n"
          ]
        }
      ]
    },
    {
      "cell_type": "code",
      "source": [
        "x_test/=255."
      ],
      "metadata": {
        "id": "aVMdYxcx11it"
      },
      "execution_count": null,
      "outputs": []
    },
    {
      "cell_type": "code",
      "source": [
        "len(x_test)"
      ],
      "metadata": {
        "colab": {
          "base_uri": "https://localhost:8080/"
        },
        "id": "l-XynTaS186O",
        "outputId": "b6ede01a-170b-440f-b30a-07f2614ce93a"
      },
      "execution_count": null,
      "outputs": [
        {
          "output_type": "execute_result",
          "data": {
            "text/plain": [
              "1000"
            ]
          },
          "metadata": {},
          "execution_count": 8
        }
      ]
    },
    {
      "cell_type": "code",
      "source": [
        "save_dir = '/content/drive/My Drive/Penelitian Andyka/Kualitass/save_models/percobaan/'"
      ],
      "metadata": {
        "id": "4VGLSJtf2Ama"
      },
      "execution_count": null,
      "outputs": []
    },
    {
      "cell_type": "code",
      "source": [
        "model = load_model(save_dir+\"model_5\")\n",
        "y_pred = model.predict(x_test)"
      ],
      "metadata": {
        "colab": {
          "base_uri": "https://localhost:8080/"
        },
        "id": "2sdTGIap2czh",
        "outputId": "994f113d-943d-4b8c-9923-664e3c4ea0be"
      },
      "execution_count": null,
      "outputs": [
        {
          "output_type": "stream",
          "name": "stdout",
          "text": [
            "32/32 [==============================] - 724s 23s/step\n"
          ]
        }
      ]
    },
    {
      "cell_type": "code",
      "source": [
        "y_pred = np.argmax(y_pred, axis=1)"
      ],
      "metadata": {
        "id": "RXhteMDH7AIC"
      },
      "execution_count": null,
      "outputs": []
    },
    {
      "cell_type": "code",
      "source": [
        "acc_test = accuracy_score(y_test, y_pred)\n",
        "prec_test = precision_score(y_test, y_pred, average='micro')\n",
        "rec_test = recall_score(y_test, y_pred, average='micro')\n",
        "f1score_test = f1_score(y_test, y_pred, average='micro')"
      ],
      "metadata": {
        "id": "mG53Cijt7IPK"
      },
      "execution_count": null,
      "outputs": []
    },
    {
      "cell_type": "code",
      "source": [
        "print('Acc Test : ', acc_test)\n",
        "print('Prec Test : ', prec_test)\n",
        "print('Rec Test : ', rec_test)\n",
        "print('F1-Score Test : ', f1score_test)"
      ],
      "metadata": {
        "colab": {
          "base_uri": "https://localhost:8080/"
        },
        "id": "F1xgFaun7K65",
        "outputId": "5b58fa97-6719-4148-9104-b9725907254f"
      },
      "execution_count": null,
      "outputs": [
        {
          "output_type": "stream",
          "name": "stdout",
          "text": [
            "Acc Test :  0.817\n",
            "Prec Test :  0.817\n",
            "Rec Test :  0.817\n",
            "F1-Score Test :  0.817\n"
          ]
        }
      ]
    },
    {
      "cell_type": "code",
      "source": [
        "print(classification_report(y_test, y_pred, target_names = ['Broken (Class 0)','Discolored (Class 1)', 'Pure (Class 2)', 'Silkcut (Class 3)']))"
      ],
      "metadata": {
        "colab": {
          "base_uri": "https://localhost:8080/"
        },
        "id": "dh1VnAnJ7MUt",
        "outputId": "d19d83be-f8f1-49e0-ac1a-04d5f19f532a"
      },
      "execution_count": null,
      "outputs": [
        {
          "output_type": "stream",
          "name": "stdout",
          "text": [
            "                      precision    recall  f1-score   support\n",
            "\n",
            "    Broken (Class 0)       0.88      0.81      0.84       250\n",
            "Discolored (Class 1)       0.82      0.79      0.81       250\n",
            "      Pure (Class 2)       0.93      0.82      0.87       250\n",
            "   Silkcut (Class 3)       0.69      0.86      0.76       250\n",
            "\n",
            "            accuracy                           0.82      1000\n",
            "           macro avg       0.83      0.82      0.82      1000\n",
            "        weighted avg       0.83      0.82      0.82      1000\n",
            "\n"
          ]
        }
      ]
    },
    {
      "cell_type": "code",
      "source": [
        "def plot_image(i, predictions_label, true_label, img):\n",
        "  true_label, img = true_label[i], img[i]\n",
        "  plt.grid(False)\n",
        "  plt.xticks([])\n",
        "  plt.yticks([])\n",
        "\n",
        "  plt.imshow(img, cmap=plt.cm.binary)\n",
        "\n",
        "  # defining the plot value array\n",
        "  if predictions_label == true_label:\n",
        "    color = 'blue'\n",
        "  else:\n",
        "    color = 'red'\n",
        "\n",
        "  plt.xlabel(\"{} {:2.0f} ({})\".format(kelas[predictions_label],\n",
        "                                np.max(predictions_label),\n",
        "                                kelas[true_label]),\n",
        "                                color=color,\n",
        "                                fontsize=10)"
      ],
      "metadata": {
        "id": "2LCUtwgj7V1U"
      },
      "execution_count": null,
      "outputs": []
    },
    {
      "cell_type": "markdown",
      "source": [
        "##### SALAH (BENAR), parameter di dalam kurung merupakan kelas sebenarnya sedangakan di luar kurung merupakan prediksi model"
      ],
      "metadata": {
        "id": "LXqVrvs1UHe4"
      }
    },
    {
      "cell_type": "code",
      "source": [
        "num_rows = 200\n",
        "num_cols = 5\n",
        "num_images = num_rows*num_cols\n",
        "plt.figure(figsize=(2*2*num_cols, 2*num_rows))\n",
        "for i in range(num_images):\n",
        "  plt.subplot(num_rows, 2*num_cols, 2*i+1)\n",
        "  plot_image(i, y_pred[i], y_test, x_test)\n",
        "plt.show()"
      ],
      "metadata": {
        "id": "ej-nFkzvRGHe"
      },
      "execution_count": null,
      "outputs": []
    }
  ]
}